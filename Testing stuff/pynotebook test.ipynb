{
 "cells": [
  {
   "cell_type": "code",
   "execution_count": null,
   "id": "2911000f",
   "metadata": {},
   "outputs": [],
   "source": [
    "import cv2\n",
    "import time\n",
    "import os\n",
    "import sys"
   ]
  },
  {
   "cell_type": "markdown",
   "id": "4b0c67e6",
   "metadata": {},
   "source": [
    "imports cv2 for webcam https://www.geeksforgeeks.org/python/opencv-python-tutorial/\n",
    "\n",
    "imports time provides access to time basically\n",
    "\n",
    "imports os to provide access to os level.\n",
    "\n",
    "\n"
   ]
  },
  {
   "cell_type": "code",
   "execution_count": null,
   "id": "63fd2e56",
   "metadata": {},
   "outputs": [],
   "source": [
    "cap = cv2.VideoCapture(0)\n",
    "tagFile = \n",
    "\n",
    "if not cap.isOpened():\n",
    "    sys.exit(\"Error : could not find video device.\")\n",
    "\n",
    "while True:\n",
    "    image = cap.read()\n",
    "    print(\"Captured Image\")\n",
    "    \n",
    "    \n",
    "    time.sleep(5)\n",
    "    \n",
    "    \n",
    "\n"
   ]
  }
 ],
 "metadata": {
  "kernelspec": {
   "display_name": "Python 3",
   "language": "python",
   "name": "python3"
  },
  "language_info": {
   "name": "python",
   "version": "3.13.9"
  }
 },
 "nbformat": 4,
 "nbformat_minor": 5
}
